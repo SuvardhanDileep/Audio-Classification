{
  "nbformat": 4,
  "nbformat_minor": 0,
  "metadata": {
    "colab": {
      "provenance": []
    },
    "kernelspec": {
      "name": "python3",
      "display_name": "Python 3"
    },
    "language_info": {
      "name": "python"
    }
  },
  "cells": [
    {
      "cell_type": "code",
      "source": [
        "import pandas as pd\n",
        "import os\n",
        "import librosa\n",
        "\n",
        "audio_dataset_path='/content/drive/MyDrive/UrbanSound8K/audio'\n",
        "metadata=pd.read_csv('/content/drive/MyDrive/UrbanSound8K/metadata/UrbanSound8K.csv')"
      ],
      "metadata": {
        "id": "5Bii6NINE6u6"
      },
      "execution_count": null,
      "outputs": []
    },
    {
      "cell_type": "markdown",
      "source": [
        "Here, necessary libraries are imported. pandas is used for handling data frames, os for operating system-related functions, and librosa for audio signal processing.\n",
        "\n",
        "Storing the path to the directory containing the audio files.\n",
        "\n",
        "The metadata for the UrbanSound8K dataset is read from a CSV file. This file likely contains information about the audio files, such as file names, locations, labels, and other relevant details."
      ],
      "metadata": {
        "id": "xTdqCUIwoI3a"
      }
    },
    {
      "cell_type": "code",
      "source": [
        "def features_extractor(file):\n",
        "    audio, sample_rate = librosa.load(file_name, res_type='kaiser_fast')\n",
        "    mfccs_features = librosa.feature.mfcc(y=audio, sr=sample_rate, n_mfcc=40)\n",
        "    mfccs_scaled_features = np.mean(mfccs_features.T,axis=0)\n",
        "\n",
        "    return mfccs_scaled_features"
      ],
      "metadata": {
        "id": "rWF-YooRFDOA"
      },
      "execution_count": null,
      "outputs": []
    },
    {
      "cell_type": "markdown",
      "source": [
        "//Defining mfcc feature extractor function\n",
        "The features_extractor function is designed to extract Mel-Frequency Cepstral Coefficients (MFCCs) from an audio file using the librosa library.\n",
        "\n",
        "Number of MFCCs to be extracted, set to 40 in this case.\n",
        "\n",
        " Takes the mean across the columns after transposing the MFCC matrix. This results in a one-dimensional array representing the scaled MFCCs."
      ],
      "metadata": {
        "id": "_KNePEEYo9f8"
      }
    },
    {
      "cell_type": "code",
      "source": [
        "!pip install resampy"
      ],
      "metadata": {
        "colab": {
          "base_uri": "https://localhost:8080/"
        },
        "id": "S2V7j2QiFWmg",
        "outputId": "46f5c833-a628-4a97-9368-cca0adeab6ed"
      },
      "execution_count": null,
      "outputs": [
        {
          "output_type": "stream",
          "name": "stdout",
          "text": [
            "Collecting resampy\n",
            "  Downloading resampy-0.4.2-py3-none-any.whl (3.1 MB)\n",
            "\u001b[2K     \u001b[90m━━━━━━━━━━━━━━━━━━━━━━━━━━━━━━━━━━━━━━━━\u001b[0m \u001b[32m3.1/3.1 MB\u001b[0m \u001b[31m8.3 MB/s\u001b[0m eta \u001b[36m0:00:00\u001b[0m\n",
            "\u001b[?25hRequirement already satisfied: numpy>=1.17 in /usr/local/lib/python3.10/dist-packages (from resampy) (1.23.5)\n",
            "Requirement already satisfied: numba>=0.53 in /usr/local/lib/python3.10/dist-packages (from resampy) (0.58.1)\n",
            "Requirement already satisfied: llvmlite<0.42,>=0.41.0dev0 in /usr/local/lib/python3.10/dist-packages (from numba>=0.53->resampy) (0.41.1)\n",
            "Installing collected packages: resampy\n",
            "Successfully installed resampy-0.4.2\n"
          ]
        }
      ]
    },
    {
      "cell_type": "code",
      "source": [
        "import numpy as np\n",
        "from tqdm import tqdm\n",
        "extracted_features=[]\n",
        "for index_num,row in tqdm(metadata.iterrows()):\n",
        "    file_name = os.path.join(os.path.abspath(audio_dataset_path),'fold'+str(row[\"fold\"])+'/',str(row[\"slice_file_name\"]))\n",
        "    final_class_labels=row[\"class\"]\n",
        "    data=features_extractor(file_name)\n",
        "    extracted_features.append([data,final_class_labels])"
      ],
      "metadata": {
        "colab": {
          "base_uri": "https://localhost:8080/"
        },
        "id": "xMWa0QPLFE1w",
        "outputId": "18d2e4c9-b5f1-48d0-d743-6d0788dc361f"
      },
      "execution_count": null,
      "outputs": [
        {
          "output_type": "stream",
          "name": "stderr",
          "text": [
            "3555it [07:22,  9.30it/s]/usr/local/lib/python3.10/dist-packages/librosa/core/spectrum.py:257: UserWarning: n_fft=2048 is too large for input signal of length=1323\n",
            "  warnings.warn(\n",
            "8324it [16:23, 10.46it/s]/usr/local/lib/python3.10/dist-packages/librosa/core/spectrum.py:257: UserWarning: n_fft=2048 is too large for input signal of length=1103\n",
            "  warnings.warn(\n",
            "8327it [16:23, 14.21it/s]/usr/local/lib/python3.10/dist-packages/librosa/core/spectrum.py:257: UserWarning: n_fft=2048 is too large for input signal of length=1523\n",
            "  warnings.warn(\n",
            "8732it [17:09,  8.48it/s]\n"
          ]
        }
      ]
    },
    {
      "cell_type": "markdown",
      "source": [
        "Created a extracted_features list,\n",
        "iterated over metadata file,accesed each audio file by linking locations,obtain mfccs data throug mfcc extractor funtion, then appending as pair of data and class labels in list.\n",
        "This code snippet is a part of the process where features, specifically Mel-Frequency Cepstral Coefficients (MFCCs), are extracted from each audio file in the dataset using the previously defined features_extractor function and Appending the extracted information into a list to later convert into a data frame"
      ],
      "metadata": {
        "id": "eAWcWAtXtao3"
      }
    },
    {
      "cell_type": "code",
      "source": [
        "### converting extracted_features into a Pandas dataframe\n",
        "extracted_features_df=pd.DataFrame(extracted_features,columns=['feature','class'])"
      ],
      "metadata": {
        "id": "QbeAFDDaH2w2"
      },
      "execution_count": null,
      "outputs": []
    },
    {
      "cell_type": "markdown",
      "source": [
        "making a dataframe"
      ],
      "metadata": {
        "id": "mQGF6-qOxibz"
      }
    },
    {
      "cell_type": "code",
      "source": [
        "### Split the dataset into independent and dependent dataset\n",
        "X=np.array(extracted_features_df['feature'].tolist())\n",
        "y=np.array(extracted_features_df['class'].tolist())"
      ],
      "metadata": {
        "id": "v0V3UUaBH3lr",
        "collapsed": true
      },
      "execution_count": null,
      "outputs": []
    },
    {
      "cell_type": "markdown",
      "source": [
        "converting feature and class columns into arrays"
      ],
      "metadata": {
        "id": "1A7iz71oyhI_"
      }
    },
    {
      "cell_type": "code",
      "source": [
        "### Label Encoding\n",
        "### Label Encoder\n",
        "from tensorflow.keras.utils import to_categorical\n",
        "from sklearn.preprocessing import LabelEncoder\n",
        "labelencoder=LabelEncoder()\n",
        "y=to_categorical(labelencoder.fit_transform(y))"
      ],
      "metadata": {
        "id": "2Z1zbTZhFHFP"
      },
      "execution_count": null,
      "outputs": []
    },
    {
      "cell_type": "markdown",
      "source": [
        "label encoder encodes class labels as like 0,1,2..,\n",
        " to_categorical converts theses these numbers into vetors as 0010000000,0100000000,...."
      ],
      "metadata": {
        "id": "lnUqysyVzeK5"
      }
    },
    {
      "cell_type": "code",
      "source": [
        "### Train Test Split\n",
        "from sklearn.model_selection import train_test_split\n",
        "X_train,X_test,y_train,y_test=train_test_split(X,y,test_size=0.2,random_state=0)"
      ],
      "metadata": {
        "id": "X5Zk0KkBJC0b"
      },
      "execution_count": null,
      "outputs": []
    },
    {
      "cell_type": "markdown",
      "source": [
        "Proportion of the dataset that will be allocated to the test set is 20 and for train is 80.\n",
        "\n",
        "By splitting the dataset into training and testing sets, you can train the machine learning model on the training set and evaluate its performance on the unseen testing set. This helps assess how well the model generalizes to new data and avoids overfitting."
      ],
      "metadata": {
        "id": "9FlVq_obvHkC"
      }
    },
    {
      "cell_type": "markdown",
      "source": [
        "MODEL CREATION"
      ],
      "metadata": {
        "id": "7K46kEe0KzSF"
      }
    },
    {
      "cell_type": "code",
      "source": [
        "import tensorflow as tf"
      ],
      "metadata": {
        "id": "ZxD_TbR3JFCe"
      },
      "execution_count": null,
      "outputs": []
    },
    {
      "cell_type": "code",
      "source": [
        "from tensorflow.keras.models import Sequential\n",
        "from tensorflow.keras.layers import Dense,Dropout,Activation,Flatten\n",
        "from tensorflow.keras.optimizers import Adam\n",
        "from sklearn import metrics"
      ],
      "metadata": {
        "id": "GeCrLFgyKyTv"
      },
      "execution_count": null,
      "outputs": []
    },
    {
      "cell_type": "code",
      "source": [
        "### No of classes\n",
        "num_labels=y.shape[1]"
      ],
      "metadata": {
        "id": "Dh0_7fF7K3XT"
      },
      "execution_count": null,
      "outputs": []
    },
    {
      "cell_type": "code",
      "source": [
        "model=Sequential()\n",
        "###first layer\n",
        "model.add(Dense(100,input_shape=(40,)))\n",
        "model.add(Activation('relu'))\n",
        "model.add(Dropout(0.5))\n",
        "###second layer\n",
        "model.add(Dense(200))\n",
        "model.add(Activation('relu'))\n",
        "model.add(Dropout(0.5))\n",
        "###third layer\n",
        "model.add(Dense(100))\n",
        "model.add(Activation('relu'))\n",
        "model.add(Dropout(0.5))\n",
        "\n",
        "###final layer\n",
        "model.add(Dense(num_labels))\n",
        "model.add(Activation('softmax'))"
      ],
      "metadata": {
        "id": "BnYgQizVK4pR"
      },
      "execution_count": null,
      "outputs": []
    },
    {
      "cell_type": "markdown",
      "source": [
        "The code defines a neural network using Keras with a Sequential model. It comprises three dense layers with 100, 200, and 100 units, respectively, using ReLU activation. Each dense layer includes dropout for regularization with a dropout rate of 0.5. The final layer has a number of units corresponding to the output labels, utilizing softmax activation for multi-class classification. The input shape is set to (40,) for 40 features."
      ],
      "metadata": {
        "id": "YjaYTNRsxTXQ"
      }
    },
    {
      "cell_type": "code",
      "source": [
        "model.compile(loss='categorical_crossentropy',metrics=['accuracy'],optimizer='adam')"
      ],
      "metadata": {
        "id": "3biPgvnELAQD"
      },
      "execution_count": null,
      "outputs": []
    },
    {
      "cell_type": "code",
      "source": [
        "## Trianing my model\n",
        "from tensorflow.keras.callbacks import ModelCheckpoint\n",
        "from datetime import datetime\n",
        "\n",
        "num_epochs = 100\n",
        "num_batch_size = 32\n",
        "\n",
        "checkpointer = ModelCheckpoint(filepath='saved_models/audio_classification.hdf5',\n",
        "                               verbose=1, save_best_only=True)\n",
        "start = datetime.now()\n",
        "\n",
        "model.fit(X_train, y_train, batch_size=num_batch_size, epochs=num_epochs, validation_data=(X_test, y_test), callbacks=[checkpointer], verbose=1)\n",
        "\n",
        "\n",
        "duration = datetime.now() - start\n",
        "print(\"Training completed in time: \", duration)"
      ],
      "metadata": {
        "colab": {
          "base_uri": "https://localhost:8080/"
        },
        "id": "9ZveO_EULZhV",
        "outputId": "d64762c9-d58a-448a-f0f6-dade6fdb13d1"
      },
      "execution_count": null,
      "outputs": [
        {
          "output_type": "stream",
          "name": "stdout",
          "text": [
            "Epoch 1/100\n",
            "214/219 [============================>.] - ETA: 0s - loss: 0.8354 - accuracy: 0.7228\n",
            "Epoch 1: val_loss improved from inf to 0.67892, saving model to saved_models/audio_classification.hdf5\n",
            "219/219 [==============================] - 1s 4ms/step - loss: 0.8335 - accuracy: 0.7233 - val_loss: 0.6789 - val_accuracy: 0.7951\n",
            "Epoch 2/100\n",
            "218/219 [============================>.] - ETA: 0s - loss: 0.8499 - accuracy: 0.7172\n",
            "Epoch 2: val_loss did not improve from 0.67892\n",
            "219/219 [==============================] - 1s 4ms/step - loss: 0.8492 - accuracy: 0.7174 - val_loss: 0.6910 - val_accuracy: 0.7842\n",
            "Epoch 3/100\n",
            "215/219 [============================>.] - ETA: 0s - loss: 0.8527 - accuracy: 0.7218\n",
            "Epoch 3: val_loss did not improve from 0.67892\n",
            "219/219 [==============================] - 1s 4ms/step - loss: 0.8517 - accuracy: 0.7215 - val_loss: 0.6975 - val_accuracy: 0.7848\n",
            "Epoch 4/100\n",
            "218/219 [============================>.] - ETA: 0s - loss: 0.8467 - accuracy: 0.7203\n",
            "Epoch 4: val_loss did not improve from 0.67892\n",
            "219/219 [==============================] - 1s 5ms/step - loss: 0.8464 - accuracy: 0.7201 - val_loss: 0.6984 - val_accuracy: 0.7802\n",
            "Epoch 5/100\n",
            "215/219 [============================>.] - ETA: 0s - loss: 0.8558 - accuracy: 0.7185\n",
            "Epoch 5: val_loss did not improve from 0.67892\n",
            "219/219 [==============================] - 1s 5ms/step - loss: 0.8541 - accuracy: 0.7187 - val_loss: 0.6952 - val_accuracy: 0.7922\n",
            "Epoch 6/100\n",
            "209/219 [===========================>..] - ETA: 0s - loss: 0.8468 - accuracy: 0.7271\n",
            "Epoch 6: val_loss did not improve from 0.67892\n",
            "219/219 [==============================] - 1s 5ms/step - loss: 0.8467 - accuracy: 0.7263 - val_loss: 0.6827 - val_accuracy: 0.7951\n",
            "Epoch 7/100\n",
            "208/219 [===========================>..] - ETA: 0s - loss: 0.8710 - accuracy: 0.7153\n",
            "Epoch 7: val_loss did not improve from 0.67892\n",
            "219/219 [==============================] - 1s 5ms/step - loss: 0.8711 - accuracy: 0.7140 - val_loss: 0.6993 - val_accuracy: 0.7762\n",
            "Epoch 8/100\n",
            "216/219 [============================>.] - ETA: 0s - loss: 0.8811 - accuracy: 0.7124\n",
            "Epoch 8: val_loss did not improve from 0.67892\n",
            "219/219 [==============================] - 1s 5ms/step - loss: 0.8816 - accuracy: 0.7121 - val_loss: 0.6952 - val_accuracy: 0.7945\n",
            "Epoch 9/100\n",
            "210/219 [===========================>..] - ETA: 0s - loss: 0.8400 - accuracy: 0.7228\n",
            "Epoch 9: val_loss did not improve from 0.67892\n",
            "219/219 [==============================] - 1s 5ms/step - loss: 0.8454 - accuracy: 0.7214 - val_loss: 0.6847 - val_accuracy: 0.7939\n",
            "Epoch 10/100\n",
            "203/219 [==========================>...] - ETA: 0s - loss: 0.8338 - accuracy: 0.7238\n",
            "Epoch 10: val_loss did not improve from 0.67892\n",
            "219/219 [==============================] - 1s 4ms/step - loss: 0.8377 - accuracy: 0.7236 - val_loss: 0.6962 - val_accuracy: 0.7894\n",
            "Epoch 11/100\n",
            "203/219 [==========================>...] - ETA: 0s - loss: 0.8389 - accuracy: 0.7203\n",
            "Epoch 11: val_loss did not improve from 0.67892\n",
            "219/219 [==============================] - 1s 4ms/step - loss: 0.8371 - accuracy: 0.7210 - val_loss: 0.6831 - val_accuracy: 0.7911\n",
            "Epoch 12/100\n",
            "212/219 [============================>.] - ETA: 0s - loss: 0.8528 - accuracy: 0.7188\n",
            "Epoch 12: val_loss improved from 0.67892 to 0.67337, saving model to saved_models/audio_classification.hdf5\n",
            "219/219 [==============================] - 1s 4ms/step - loss: 0.8528 - accuracy: 0.7181 - val_loss: 0.6734 - val_accuracy: 0.7922\n",
            "Epoch 13/100\n",
            "208/219 [===========================>..] - ETA: 0s - loss: 0.8559 - accuracy: 0.7189\n",
            "Epoch 13: val_loss did not improve from 0.67337\n",
            "219/219 [==============================] - 1s 3ms/step - loss: 0.8532 - accuracy: 0.7197 - val_loss: 0.7146 - val_accuracy: 0.7733\n",
            "Epoch 14/100\n",
            "212/219 [============================>.] - ETA: 0s - loss: 0.8807 - accuracy: 0.7096\n",
            "Epoch 14: val_loss did not improve from 0.67337\n",
            "219/219 [==============================] - 1s 4ms/step - loss: 0.8837 - accuracy: 0.7092 - val_loss: 0.7095 - val_accuracy: 0.7894\n",
            "Epoch 15/100\n",
            "213/219 [============================>.] - ETA: 0s - loss: 0.8365 - accuracy: 0.7287\n",
            "Epoch 15: val_loss did not improve from 0.67337\n",
            "219/219 [==============================] - 1s 3ms/step - loss: 0.8372 - accuracy: 0.7276 - val_loss: 0.6767 - val_accuracy: 0.7951\n",
            "Epoch 16/100\n",
            "207/219 [===========================>..] - ETA: 0s - loss: 0.8612 - accuracy: 0.7186\n",
            "Epoch 16: val_loss did not improve from 0.67337\n",
            "219/219 [==============================] - 1s 4ms/step - loss: 0.8567 - accuracy: 0.7204 - val_loss: 0.6960 - val_accuracy: 0.7768\n",
            "Epoch 17/100\n",
            "209/219 [===========================>..] - ETA: 0s - loss: 0.8342 - accuracy: 0.7301\n",
            "Epoch 17: val_loss did not improve from 0.67337\n",
            "219/219 [==============================] - 1s 4ms/step - loss: 0.8346 - accuracy: 0.7291 - val_loss: 0.6950 - val_accuracy: 0.7836\n",
            "Epoch 18/100\n",
            "211/219 [===========================>..] - ETA: 0s - loss: 0.8179 - accuracy: 0.7305\n",
            "Epoch 18: val_loss improved from 0.67337 to 0.65788, saving model to saved_models/audio_classification.hdf5\n",
            "219/219 [==============================] - 1s 4ms/step - loss: 0.8173 - accuracy: 0.7311 - val_loss: 0.6579 - val_accuracy: 0.8031\n",
            "Epoch 19/100\n",
            "216/219 [============================>.] - ETA: 0s - loss: 0.8355 - accuracy: 0.7253\n",
            "Epoch 19: val_loss did not improve from 0.65788\n",
            "219/219 [==============================] - 1s 4ms/step - loss: 0.8328 - accuracy: 0.7261 - val_loss: 0.6839 - val_accuracy: 0.7951\n",
            "Epoch 20/100\n",
            "215/219 [============================>.] - ETA: 0s - loss: 0.8466 - accuracy: 0.7276\n",
            "Epoch 20: val_loss did not improve from 0.65788\n",
            "219/219 [==============================] - 1s 4ms/step - loss: 0.8451 - accuracy: 0.7273 - val_loss: 0.6659 - val_accuracy: 0.8008\n",
            "Epoch 21/100\n",
            "207/219 [===========================>..] - ETA: 0s - loss: 0.8552 - accuracy: 0.7168\n",
            "Epoch 21: val_loss did not improve from 0.65788\n",
            "219/219 [==============================] - 1s 4ms/step - loss: 0.8577 - accuracy: 0.7164 - val_loss: 0.6761 - val_accuracy: 0.7836\n",
            "Epoch 22/100\n",
            "212/219 [============================>.] - ETA: 0s - loss: 0.8610 - accuracy: 0.7183\n",
            "Epoch 22: val_loss did not improve from 0.65788\n",
            "219/219 [==============================] - 1s 4ms/step - loss: 0.8537 - accuracy: 0.7203 - val_loss: 0.6688 - val_accuracy: 0.7934\n",
            "Epoch 23/100\n",
            "208/219 [===========================>..] - ETA: 0s - loss: 0.8340 - accuracy: 0.7204\n",
            "Epoch 23: val_loss did not improve from 0.65788\n",
            "219/219 [==============================] - 1s 5ms/step - loss: 0.8316 - accuracy: 0.7217 - val_loss: 0.6755 - val_accuracy: 0.7916\n",
            "Epoch 24/100\n",
            "211/219 [===========================>..] - ETA: 0s - loss: 0.8413 - accuracy: 0.7263\n",
            "Epoch 24: val_loss did not improve from 0.65788\n",
            "219/219 [==============================] - 1s 5ms/step - loss: 0.8386 - accuracy: 0.7270 - val_loss: 0.6784 - val_accuracy: 0.7905\n",
            "Epoch 25/100\n",
            "210/219 [===========================>..] - ETA: 0s - loss: 0.8426 - accuracy: 0.7207\n",
            "Epoch 25: val_loss did not improve from 0.65788\n",
            "219/219 [==============================] - 1s 5ms/step - loss: 0.8458 - accuracy: 0.7203 - val_loss: 0.6978 - val_accuracy: 0.7865\n",
            "Epoch 26/100\n",
            "209/219 [===========================>..] - ETA: 0s - loss: 0.8753 - accuracy: 0.7162\n",
            "Epoch 26: val_loss did not improve from 0.65788\n",
            "219/219 [==============================] - 1s 5ms/step - loss: 0.8717 - accuracy: 0.7168 - val_loss: 0.7026 - val_accuracy: 0.7871\n",
            "Epoch 27/100\n",
            "212/219 [============================>.] - ETA: 0s - loss: 0.8619 - accuracy: 0.7185\n",
            "Epoch 27: val_loss did not improve from 0.65788\n",
            "219/219 [==============================] - 1s 5ms/step - loss: 0.8654 - accuracy: 0.7177 - val_loss: 0.6997 - val_accuracy: 0.7842\n",
            "Epoch 28/100\n",
            "219/219 [==============================] - ETA: 0s - loss: 0.8466 - accuracy: 0.7150\n",
            "Epoch 28: val_loss did not improve from 0.65788\n",
            "219/219 [==============================] - 1s 5ms/step - loss: 0.8466 - accuracy: 0.7150 - val_loss: 0.6735 - val_accuracy: 0.7956\n",
            "Epoch 29/100\n",
            "209/219 [===========================>..] - ETA: 0s - loss: 0.8544 - accuracy: 0.7161\n",
            "Epoch 29: val_loss did not improve from 0.65788\n",
            "219/219 [==============================] - 1s 5ms/step - loss: 0.8512 - accuracy: 0.7177 - val_loss: 0.6920 - val_accuracy: 0.7836\n",
            "Epoch 30/100\n",
            "213/219 [============================>.] - ETA: 0s - loss: 0.8421 - accuracy: 0.7202\n",
            "Epoch 30: val_loss did not improve from 0.65788\n",
            "219/219 [==============================] - 1s 3ms/step - loss: 0.8407 - accuracy: 0.7208 - val_loss: 0.6782 - val_accuracy: 0.7997\n",
            "Epoch 31/100\n",
            "206/219 [===========================>..] - ETA: 0s - loss: 0.8527 - accuracy: 0.7188\n",
            "Epoch 31: val_loss did not improve from 0.65788\n",
            "219/219 [==============================] - 1s 3ms/step - loss: 0.8499 - accuracy: 0.7193 - val_loss: 0.6772 - val_accuracy: 0.7882\n",
            "Epoch 32/100\n",
            "209/219 [===========================>..] - ETA: 0s - loss: 0.8284 - accuracy: 0.7207\n",
            "Epoch 32: val_loss did not improve from 0.65788\n",
            "219/219 [==============================] - 1s 4ms/step - loss: 0.8265 - accuracy: 0.7217 - val_loss: 0.6768 - val_accuracy: 0.7991\n",
            "Epoch 33/100\n",
            "204/219 [==========================>...] - ETA: 0s - loss: 0.8450 - accuracy: 0.7197\n",
            "Epoch 33: val_loss did not improve from 0.65788\n",
            "219/219 [==============================] - 1s 4ms/step - loss: 0.8416 - accuracy: 0.7217 - val_loss: 0.6827 - val_accuracy: 0.7831\n",
            "Epoch 34/100\n",
            "209/219 [===========================>..] - ETA: 0s - loss: 0.8497 - accuracy: 0.7104\n",
            "Epoch 34: val_loss did not improve from 0.65788\n",
            "219/219 [==============================] - 1s 4ms/step - loss: 0.8466 - accuracy: 0.7102 - val_loss: 0.6884 - val_accuracy: 0.7790\n",
            "Epoch 35/100\n",
            "207/219 [===========================>..] - ETA: 0s - loss: 0.8344 - accuracy: 0.7151\n",
            "Epoch 35: val_loss improved from 0.65788 to 0.65096, saving model to saved_models/audio_classification.hdf5\n",
            "219/219 [==============================] - 1s 4ms/step - loss: 0.8350 - accuracy: 0.7151 - val_loss: 0.6510 - val_accuracy: 0.7985\n",
            "Epoch 36/100\n",
            "209/219 [===========================>..] - ETA: 0s - loss: 0.8539 - accuracy: 0.7125\n",
            "Epoch 36: val_loss did not improve from 0.65096\n",
            "219/219 [==============================] - 1s 4ms/step - loss: 0.8523 - accuracy: 0.7125 - val_loss: 0.6676 - val_accuracy: 0.8002\n",
            "Epoch 37/100\n",
            "212/219 [============================>.] - ETA: 0s - loss: 0.8556 - accuracy: 0.7129\n",
            "Epoch 37: val_loss did not improve from 0.65096\n",
            "219/219 [==============================] - 1s 3ms/step - loss: 0.8554 - accuracy: 0.7127 - val_loss: 0.6784 - val_accuracy: 0.7934\n",
            "Epoch 38/100\n",
            "213/219 [============================>.] - ETA: 0s - loss: 0.8298 - accuracy: 0.7254\n",
            "Epoch 38: val_loss did not improve from 0.65096\n",
            "219/219 [==============================] - 1s 4ms/step - loss: 0.8348 - accuracy: 0.7238 - val_loss: 0.6818 - val_accuracy: 0.7934\n",
            "Epoch 39/100\n",
            "214/219 [============================>.] - ETA: 0s - loss: 0.8513 - accuracy: 0.7214\n",
            "Epoch 39: val_loss did not improve from 0.65096\n",
            "219/219 [==============================] - 1s 4ms/step - loss: 0.8527 - accuracy: 0.7207 - val_loss: 0.7065 - val_accuracy: 0.7779\n",
            "Epoch 40/100\n",
            "203/219 [==========================>...] - ETA: 0s - loss: 0.8379 - accuracy: 0.7201\n",
            "Epoch 40: val_loss did not improve from 0.65096\n",
            "219/219 [==============================] - 1s 4ms/step - loss: 0.8346 - accuracy: 0.7207 - val_loss: 0.6763 - val_accuracy: 0.7922\n",
            "Epoch 41/100\n",
            "209/219 [===========================>..] - ETA: 0s - loss: 0.8508 - accuracy: 0.7167\n",
            "Epoch 41: val_loss did not improve from 0.65096\n",
            "219/219 [==============================] - 1s 4ms/step - loss: 0.8539 - accuracy: 0.7164 - val_loss: 0.6751 - val_accuracy: 0.7934\n",
            "Epoch 42/100\n",
            "218/219 [============================>.] - ETA: 0s - loss: 0.8286 - accuracy: 0.7252\n",
            "Epoch 42: val_loss did not improve from 0.65096\n",
            "219/219 [==============================] - 1s 5ms/step - loss: 0.8291 - accuracy: 0.7250 - val_loss: 0.6969 - val_accuracy: 0.7785\n",
            "Epoch 43/100\n",
            "213/219 [============================>.] - ETA: 0s - loss: 0.8449 - accuracy: 0.7111\n",
            "Epoch 43: val_loss did not improve from 0.65096\n",
            "219/219 [==============================] - 1s 5ms/step - loss: 0.8427 - accuracy: 0.7110 - val_loss: 0.6561 - val_accuracy: 0.8031\n",
            "Epoch 44/100\n",
            "215/219 [============================>.] - ETA: 0s - loss: 0.8608 - accuracy: 0.7185\n",
            "Epoch 44: val_loss did not improve from 0.65096\n",
            "219/219 [==============================] - 1s 5ms/step - loss: 0.8596 - accuracy: 0.7188 - val_loss: 0.6701 - val_accuracy: 0.7956\n",
            "Epoch 45/100\n",
            "214/219 [============================>.] - ETA: 0s - loss: 0.8257 - accuracy: 0.7281\n",
            "Epoch 45: val_loss did not improve from 0.65096\n",
            "219/219 [==============================] - 1s 5ms/step - loss: 0.8248 - accuracy: 0.7281 - val_loss: 0.7037 - val_accuracy: 0.7773\n",
            "Epoch 46/100\n",
            "217/219 [============================>.] - ETA: 0s - loss: 0.8240 - accuracy: 0.7215\n",
            "Epoch 46: val_loss did not improve from 0.65096\n",
            "219/219 [==============================] - 1s 5ms/step - loss: 0.8236 - accuracy: 0.7214 - val_loss: 0.6671 - val_accuracy: 0.7968\n",
            "Epoch 47/100\n",
            "211/219 [===========================>..] - ETA: 0s - loss: 0.8553 - accuracy: 0.7143\n",
            "Epoch 47: val_loss improved from 0.65096 to 0.65058, saving model to saved_models/audio_classification.hdf5\n",
            "219/219 [==============================] - 1s 5ms/step - loss: 0.8573 - accuracy: 0.7127 - val_loss: 0.6506 - val_accuracy: 0.8048\n",
            "Epoch 48/100\n",
            "211/219 [===========================>..] - ETA: 0s - loss: 0.8558 - accuracy: 0.7217\n",
            "Epoch 48: val_loss did not improve from 0.65058\n",
            "219/219 [==============================] - 1s 4ms/step - loss: 0.8563 - accuracy: 0.7220 - val_loss: 0.6658 - val_accuracy: 0.8060\n",
            "Epoch 49/100\n",
            "207/219 [===========================>..] - ETA: 0s - loss: 0.8252 - accuracy: 0.7240\n",
            "Epoch 49: val_loss did not improve from 0.65058\n",
            "219/219 [==============================] - 1s 4ms/step - loss: 0.8254 - accuracy: 0.7243 - val_loss: 0.6835 - val_accuracy: 0.7951\n",
            "Epoch 50/100\n",
            "209/219 [===========================>..] - ETA: 0s - loss: 0.8472 - accuracy: 0.7237\n",
            "Epoch 50: val_loss did not improve from 0.65058\n",
            "219/219 [==============================] - 1s 4ms/step - loss: 0.8480 - accuracy: 0.7220 - val_loss: 0.6731 - val_accuracy: 0.7911\n",
            "Epoch 51/100\n",
            "212/219 [============================>.] - ETA: 0s - loss: 0.8472 - accuracy: 0.7254\n",
            "Epoch 51: val_loss did not improve from 0.65058\n",
            "219/219 [==============================] - 1s 4ms/step - loss: 0.8437 - accuracy: 0.7264 - val_loss: 0.6612 - val_accuracy: 0.8002\n",
            "Epoch 52/100\n",
            "209/219 [===========================>..] - ETA: 0s - loss: 0.8445 - accuracy: 0.7198\n",
            "Epoch 52: val_loss did not improve from 0.65058\n",
            "219/219 [==============================] - 1s 3ms/step - loss: 0.8446 - accuracy: 0.7214 - val_loss: 0.6770 - val_accuracy: 0.7911\n",
            "Epoch 53/100\n",
            "204/219 [==========================>...] - ETA: 0s - loss: 0.8538 - accuracy: 0.7140\n",
            "Epoch 53: val_loss did not improve from 0.65058\n",
            "219/219 [==============================] - 1s 4ms/step - loss: 0.8524 - accuracy: 0.7132 - val_loss: 0.6579 - val_accuracy: 0.8037\n",
            "Epoch 54/100\n",
            "213/219 [============================>.] - ETA: 0s - loss: 0.8165 - accuracy: 0.7268\n",
            "Epoch 54: val_loss did not improve from 0.65058\n",
            "219/219 [==============================] - 1s 4ms/step - loss: 0.8161 - accuracy: 0.7273 - val_loss: 0.6705 - val_accuracy: 0.7888\n",
            "Epoch 55/100\n",
            "211/219 [===========================>..] - ETA: 0s - loss: 0.8357 - accuracy: 0.7273\n",
            "Epoch 55: val_loss did not improve from 0.65058\n",
            "219/219 [==============================] - 1s 4ms/step - loss: 0.8317 - accuracy: 0.7277 - val_loss: 0.6602 - val_accuracy: 0.7962\n",
            "Epoch 56/100\n",
            "210/219 [===========================>..] - ETA: 0s - loss: 0.8418 - accuracy: 0.7156\n",
            "Epoch 56: val_loss did not improve from 0.65058\n",
            "219/219 [==============================] - 1s 4ms/step - loss: 0.8435 - accuracy: 0.7151 - val_loss: 0.6905 - val_accuracy: 0.7745\n",
            "Epoch 57/100\n",
            "210/219 [===========================>..] - ETA: 0s - loss: 0.8386 - accuracy: 0.7229\n",
            "Epoch 57: val_loss did not improve from 0.65058\n",
            "219/219 [==============================] - 1s 4ms/step - loss: 0.8407 - accuracy: 0.7211 - val_loss: 0.6761 - val_accuracy: 0.7968\n",
            "Epoch 58/100\n",
            "206/219 [===========================>..] - ETA: 0s - loss: 0.8223 - accuracy: 0.7313\n",
            "Epoch 58: val_loss did not improve from 0.65058\n",
            "219/219 [==============================] - 1s 4ms/step - loss: 0.8244 - accuracy: 0.7300 - val_loss: 0.6732 - val_accuracy: 0.7922\n",
            "Epoch 59/100\n",
            "204/219 [==========================>...] - ETA: 0s - loss: 0.8423 - accuracy: 0.7292\n",
            "Epoch 59: val_loss did not improve from 0.65058\n",
            "219/219 [==============================] - 1s 4ms/step - loss: 0.8518 - accuracy: 0.7256 - val_loss: 0.6843 - val_accuracy: 0.7859\n",
            "Epoch 60/100\n",
            "211/219 [===========================>..] - ETA: 0s - loss: 0.8404 - accuracy: 0.7226\n",
            "Epoch 60: val_loss did not improve from 0.65058\n",
            "219/219 [==============================] - 1s 4ms/step - loss: 0.8425 - accuracy: 0.7220 - val_loss: 0.6949 - val_accuracy: 0.7848\n",
            "Epoch 61/100\n",
            "217/219 [============================>.] - ETA: 0s - loss: 0.8320 - accuracy: 0.7283\n",
            "Epoch 61: val_loss did not improve from 0.65058\n",
            "219/219 [==============================] - 1s 5ms/step - loss: 0.8331 - accuracy: 0.7278 - val_loss: 0.6719 - val_accuracy: 0.7911\n",
            "Epoch 62/100\n",
            "217/219 [============================>.] - ETA: 0s - loss: 0.8452 - accuracy: 0.7192\n",
            "Epoch 62: val_loss did not improve from 0.65058\n",
            "219/219 [==============================] - 1s 5ms/step - loss: 0.8454 - accuracy: 0.7191 - val_loss: 0.6832 - val_accuracy: 0.7928\n",
            "Epoch 63/100\n",
            "209/219 [===========================>..] - ETA: 0s - loss: 0.8409 - accuracy: 0.7225\n",
            "Epoch 63: val_loss did not improve from 0.65058\n",
            "219/219 [==============================] - 1s 5ms/step - loss: 0.8357 - accuracy: 0.7250 - val_loss: 0.6710 - val_accuracy: 0.7916\n",
            "Epoch 64/100\n",
            "207/219 [===========================>..] - ETA: 0s - loss: 0.8315 - accuracy: 0.7308\n",
            "Epoch 64: val_loss did not improve from 0.65058\n",
            "219/219 [==============================] - 1s 5ms/step - loss: 0.8304 - accuracy: 0.7320 - val_loss: 0.6616 - val_accuracy: 0.7974\n",
            "Epoch 65/100\n",
            "216/219 [============================>.] - ETA: 0s - loss: 0.8236 - accuracy: 0.7329\n",
            "Epoch 65: val_loss did not improve from 0.65058\n",
            "219/219 [==============================] - 1s 5ms/step - loss: 0.8232 - accuracy: 0.7329 - val_loss: 0.6646 - val_accuracy: 0.8002\n",
            "Epoch 66/100\n",
            "211/219 [===========================>..] - ETA: 0s - loss: 0.8285 - accuracy: 0.7272\n",
            "Epoch 66: val_loss did not improve from 0.65058\n",
            "219/219 [==============================] - 1s 5ms/step - loss: 0.8217 - accuracy: 0.7311 - val_loss: 0.6615 - val_accuracy: 0.7974\n",
            "Epoch 67/100\n",
            "203/219 [==========================>...] - ETA: 0s - loss: 0.8091 - accuracy: 0.7323\n",
            "Epoch 67: val_loss did not improve from 0.65058\n",
            "219/219 [==============================] - 1s 5ms/step - loss: 0.8129 - accuracy: 0.7309 - val_loss: 0.6722 - val_accuracy: 0.8025\n",
            "Epoch 68/100\n",
            "205/219 [===========================>..] - ETA: 0s - loss: 0.8404 - accuracy: 0.7252\n",
            "Epoch 68: val_loss did not improve from 0.65058\n",
            "219/219 [==============================] - 1s 4ms/step - loss: 0.8359 - accuracy: 0.7260 - val_loss: 0.6645 - val_accuracy: 0.7974\n",
            "Epoch 69/100\n",
            "211/219 [===========================>..] - ETA: 0s - loss: 0.8282 - accuracy: 0.7310\n",
            "Epoch 69: val_loss did not improve from 0.65058\n",
            "219/219 [==============================] - 1s 4ms/step - loss: 0.8252 - accuracy: 0.7327 - val_loss: 0.6661 - val_accuracy: 0.7991\n",
            "Epoch 70/100\n",
            "204/219 [==========================>...] - ETA: 0s - loss: 0.8189 - accuracy: 0.7319\n",
            "Epoch 70: val_loss did not improve from 0.65058\n",
            "219/219 [==============================] - 1s 4ms/step - loss: 0.8198 - accuracy: 0.7311 - val_loss: 0.6683 - val_accuracy: 0.8082\n",
            "Epoch 71/100\n",
            "217/219 [============================>.] - ETA: 0s - loss: 0.8195 - accuracy: 0.7321\n",
            "Epoch 71: val_loss did not improve from 0.65058\n",
            "219/219 [==============================] - 1s 4ms/step - loss: 0.8186 - accuracy: 0.7324 - val_loss: 0.6662 - val_accuracy: 0.8025\n",
            "Epoch 72/100\n",
            "214/219 [============================>.] - ETA: 0s - loss: 0.8324 - accuracy: 0.7237\n",
            "Epoch 72: val_loss did not improve from 0.65058\n",
            "219/219 [==============================] - 1s 4ms/step - loss: 0.8305 - accuracy: 0.7243 - val_loss: 0.6596 - val_accuracy: 0.8019\n",
            "Epoch 73/100\n",
            "209/219 [===========================>..] - ETA: 0s - loss: 0.8189 - accuracy: 0.7316\n",
            "Epoch 73: val_loss did not improve from 0.65058\n",
            "219/219 [==============================] - 1s 3ms/step - loss: 0.8193 - accuracy: 0.7313 - val_loss: 0.6974 - val_accuracy: 0.7882\n",
            "Epoch 74/100\n",
            "214/219 [============================>.] - ETA: 0s - loss: 0.8203 - accuracy: 0.7279\n",
            "Epoch 74: val_loss did not improve from 0.65058\n",
            "219/219 [==============================] - 1s 3ms/step - loss: 0.8213 - accuracy: 0.7281 - val_loss: 0.6677 - val_accuracy: 0.7945\n",
            "Epoch 75/100\n",
            "209/219 [===========================>..] - ETA: 0s - loss: 0.8162 - accuracy: 0.7331\n",
            "Epoch 75: val_loss did not improve from 0.65058\n",
            "219/219 [==============================] - 1s 4ms/step - loss: 0.8216 - accuracy: 0.7316 - val_loss: 0.6667 - val_accuracy: 0.7894\n",
            "Epoch 76/100\n",
            "207/219 [===========================>..] - ETA: 0s - loss: 0.8375 - accuracy: 0.7243\n",
            "Epoch 76: val_loss did not improve from 0.65058\n",
            "219/219 [==============================] - 1s 4ms/step - loss: 0.8380 - accuracy: 0.7250 - val_loss: 0.6998 - val_accuracy: 0.7865\n",
            "Epoch 77/100\n",
            "210/219 [===========================>..] - ETA: 0s - loss: 0.8174 - accuracy: 0.7311\n",
            "Epoch 77: val_loss did not improve from 0.65058\n",
            "219/219 [==============================] - 1s 4ms/step - loss: 0.8227 - accuracy: 0.7291 - val_loss: 0.6666 - val_accuracy: 0.8008\n",
            "Epoch 78/100\n",
            "204/219 [==========================>...] - ETA: 0s - loss: 0.8444 - accuracy: 0.7218\n",
            "Epoch 78: val_loss did not improve from 0.65058\n",
            "219/219 [==============================] - 1s 4ms/step - loss: 0.8472 - accuracy: 0.7210 - val_loss: 0.6866 - val_accuracy: 0.7888\n",
            "Epoch 79/100\n",
            "209/219 [===========================>..] - ETA: 0s - loss: 0.8230 - accuracy: 0.7315\n",
            "Epoch 79: val_loss did not improve from 0.65058\n",
            "219/219 [==============================] - 1s 3ms/step - loss: 0.8239 - accuracy: 0.7307 - val_loss: 0.6716 - val_accuracy: 0.7985\n",
            "Epoch 80/100\n",
            "210/219 [===========================>..] - ETA: 0s - loss: 0.8444 - accuracy: 0.7196\n",
            "Epoch 80: val_loss did not improve from 0.65058\n",
            "219/219 [==============================] - 1s 5ms/step - loss: 0.8488 - accuracy: 0.7183 - val_loss: 0.6626 - val_accuracy: 0.8031\n",
            "Epoch 81/100\n",
            "219/219 [==============================] - ETA: 0s - loss: 0.8112 - accuracy: 0.7334\n",
            "Epoch 81: val_loss did not improve from 0.65058\n",
            "219/219 [==============================] - 1s 5ms/step - loss: 0.8112 - accuracy: 0.7334 - val_loss: 0.6867 - val_accuracy: 0.7997\n",
            "Epoch 82/100\n",
            "215/219 [============================>.] - ETA: 0s - loss: 0.8277 - accuracy: 0.7231\n",
            "Epoch 82: val_loss did not improve from 0.65058\n",
            "219/219 [==============================] - 1s 5ms/step - loss: 0.8280 - accuracy: 0.7236 - val_loss: 0.6811 - val_accuracy: 0.7928\n",
            "Epoch 83/100\n",
            "213/219 [============================>.] - ETA: 0s - loss: 0.8227 - accuracy: 0.7271\n",
            "Epoch 83: val_loss did not improve from 0.65058\n",
            "219/219 [==============================] - 1s 5ms/step - loss: 0.8221 - accuracy: 0.7274 - val_loss: 0.6799 - val_accuracy: 0.7979\n",
            "Epoch 84/100\n",
            "207/219 [===========================>..] - ETA: 0s - loss: 0.8262 - accuracy: 0.7280\n",
            "Epoch 84: val_loss did not improve from 0.65058\n",
            "219/219 [==============================] - 1s 5ms/step - loss: 0.8289 - accuracy: 0.7258 - val_loss: 0.6668 - val_accuracy: 0.8008\n",
            "Epoch 85/100\n",
            "210/219 [===========================>..] - ETA: 0s - loss: 0.8294 - accuracy: 0.7232\n",
            "Epoch 85: val_loss did not improve from 0.65058\n",
            "219/219 [==============================] - 1s 5ms/step - loss: 0.8294 - accuracy: 0.7231 - val_loss: 0.6677 - val_accuracy: 0.7945\n",
            "Epoch 86/100\n",
            "208/219 [===========================>..] - ETA: 0s - loss: 0.8470 - accuracy: 0.7181\n",
            "Epoch 86: val_loss did not improve from 0.65058\n",
            "219/219 [==============================] - 1s 5ms/step - loss: 0.8483 - accuracy: 0.7175 - val_loss: 0.6896 - val_accuracy: 0.7888\n",
            "Epoch 87/100\n",
            "210/219 [===========================>..] - ETA: 0s - loss: 0.8314 - accuracy: 0.7220\n",
            "Epoch 87: val_loss did not improve from 0.65058\n",
            "219/219 [==============================] - 1s 4ms/step - loss: 0.8371 - accuracy: 0.7201 - val_loss: 0.6716 - val_accuracy: 0.7951\n",
            "Epoch 88/100\n",
            "204/219 [==========================>...] - ETA: 0s - loss: 0.8264 - accuracy: 0.7266\n",
            "Epoch 88: val_loss did not improve from 0.65058\n",
            "219/219 [==============================] - 1s 4ms/step - loss: 0.8314 - accuracy: 0.7258 - val_loss: 0.6619 - val_accuracy: 0.8054\n",
            "Epoch 89/100\n",
            "209/219 [===========================>..] - ETA: 0s - loss: 0.8305 - accuracy: 0.7274\n",
            "Epoch 89: val_loss improved from 0.65058 to 0.64887, saving model to saved_models/audio_classification.hdf5\n",
            "219/219 [==============================] - 1s 4ms/step - loss: 0.8281 - accuracy: 0.7280 - val_loss: 0.6489 - val_accuracy: 0.8077\n",
            "Epoch 90/100\n",
            "204/219 [==========================>...] - ETA: 0s - loss: 0.8028 - accuracy: 0.7313\n",
            "Epoch 90: val_loss did not improve from 0.64887\n",
            "219/219 [==============================] - 1s 4ms/step - loss: 0.8137 - accuracy: 0.7294 - val_loss: 0.6790 - val_accuracy: 0.7888\n",
            "Epoch 91/100\n",
            "204/219 [==========================>...] - ETA: 0s - loss: 0.8402 - accuracy: 0.7253\n",
            "Epoch 91: val_loss did not improve from 0.64887\n",
            "219/219 [==============================] - 1s 4ms/step - loss: 0.8310 - accuracy: 0.7286 - val_loss: 0.6668 - val_accuracy: 0.8065\n",
            "Epoch 92/100\n",
            "217/219 [============================>.] - ETA: 0s - loss: 0.8305 - accuracy: 0.7284\n",
            "Epoch 92: val_loss did not improve from 0.64887\n",
            "219/219 [==============================] - 1s 4ms/step - loss: 0.8310 - accuracy: 0.7278 - val_loss: 0.6960 - val_accuracy: 0.7888\n",
            "Epoch 93/100\n",
            "206/219 [===========================>..] - ETA: 0s - loss: 0.8214 - accuracy: 0.7277\n",
            "Epoch 93: val_loss did not improve from 0.64887\n",
            "219/219 [==============================] - 1s 4ms/step - loss: 0.8193 - accuracy: 0.7274 - val_loss: 0.6519 - val_accuracy: 0.8014\n",
            "Epoch 94/100\n",
            "208/219 [===========================>..] - ETA: 0s - loss: 0.8132 - accuracy: 0.7317\n",
            "Epoch 94: val_loss did not improve from 0.64887\n",
            "219/219 [==============================] - 1s 4ms/step - loss: 0.8184 - accuracy: 0.7290 - val_loss: 0.6586 - val_accuracy: 0.7979\n",
            "Epoch 95/100\n",
            "218/219 [============================>.] - ETA: 0s - loss: 0.8047 - accuracy: 0.7292\n",
            "Epoch 95: val_loss did not improve from 0.64887\n",
            "219/219 [==============================] - 1s 4ms/step - loss: 0.8047 - accuracy: 0.7293 - val_loss: 0.6542 - val_accuracy: 0.8111\n",
            "Epoch 96/100\n",
            "203/219 [==========================>...] - ETA: 0s - loss: 0.8193 - accuracy: 0.7257\n",
            "Epoch 96: val_loss did not improve from 0.64887\n",
            "219/219 [==============================] - 1s 4ms/step - loss: 0.8182 - accuracy: 0.7273 - val_loss: 0.6647 - val_accuracy: 0.8002\n",
            "Epoch 97/100\n",
            "205/219 [===========================>..] - ETA: 0s - loss: 0.8147 - accuracy: 0.7329\n",
            "Epoch 97: val_loss did not improve from 0.64887\n",
            "219/219 [==============================] - 1s 4ms/step - loss: 0.8165 - accuracy: 0.7320 - val_loss: 0.6642 - val_accuracy: 0.7945\n",
            "Epoch 98/100\n",
            "208/219 [===========================>..] - ETA: 0s - loss: 0.8130 - accuracy: 0.7275\n",
            "Epoch 98: val_loss did not improve from 0.64887\n",
            "219/219 [==============================] - 1s 4ms/step - loss: 0.8079 - accuracy: 0.7297 - val_loss: 0.6603 - val_accuracy: 0.8002\n",
            "Epoch 99/100\n",
            "217/219 [============================>.] - ETA: 0s - loss: 0.8329 - accuracy: 0.7313\n",
            "Epoch 99: val_loss did not improve from 0.64887\n",
            "219/219 [==============================] - 1s 5ms/step - loss: 0.8327 - accuracy: 0.7313 - val_loss: 0.6711 - val_accuracy: 0.7991\n",
            "Epoch 100/100\n",
            "214/219 [============================>.] - ETA: 0s - loss: 0.8109 - accuracy: 0.7371\n",
            "Epoch 100: val_loss did not improve from 0.64887\n",
            "219/219 [==============================] - 1s 5ms/step - loss: 0.8102 - accuracy: 0.7374 - val_loss: 0.6584 - val_accuracy: 0.8071\n",
            "Training completed in time:  0:02:21.978591\n"
          ]
        }
      ]
    },
    {
      "cell_type": "markdown",
      "source": [
        "It takes more time use high speed internet.\n",
        "We can increase accuracy by running the training model again and again."
      ],
      "metadata": {
        "id": "tFFIN8wJM_AC"
      }
    },
    {
      "cell_type": "code",
      "source": [
        "test_accuracy=model.evaluate(X_test,y_test,verbose=0)\n",
        "print(test_accuracy[1])"
      ],
      "metadata": {
        "colab": {
          "base_uri": "https://localhost:8080/"
        },
        "id": "aTTn_F1UL8FJ",
        "outputId": "acfde6c6-d35d-4061-b3ba-1964694963e5"
      },
      "execution_count": null,
      "outputs": [
        {
          "output_type": "stream",
          "name": "stdout",
          "text": [
            "0.8070979118347168\n"
          ]
        }
      ]
    },
    {
      "cell_type": "markdown",
      "source": [
        "80 percent accuracy is obtained on the test set."
      ],
      "metadata": {
        "id": "Pl2m8N-XyPc2"
      }
    },
    {
      "cell_type": "markdown",
      "source": [
        "Testing Some Test Audio Data\n",
        "\n",
        "Demonstrating how to take an audio file, extract MFCC features, and use a trained neural network model to predict the class label for that particular audio sample. The result is the predicted class label for the provided audio file.\n",
        "\n",
        "If instrested we also see the mfccs_scaled_features array, its reshaped form, and its shape,the predicted class index and the corresponding class label after the prediction step."
      ],
      "metadata": {
        "id": "XrWNiNheVpj-"
      }
    },
    {
      "cell_type": "code",
      "source": [
        "filename = \"/content/drive/MyDrive/UrbanSound8K/audio/fold2/76086-4-0-58.wav\"\n",
        "audio, sample_rate = librosa.load(filename, res_type='kaiser_fast')\n",
        "mfccs_features = librosa.feature.mfcc(y=audio, sr=sample_rate, n_mfcc=40)\n",
        "mfccs_scaled_features = np.mean(mfccs_features.T, axis=0)\n",
        "\n",
        "# print(mfccs_scaled_features)\n",
        "mfccs_scaled_features = mfccs_scaled_features.reshape(1, -1)\n",
        "# print(mfccs_scaled_features)\n",
        "# print(mfccs_scaled_features.shape)\n",
        "\n",
        "predicted_probabilities = model.predict(mfccs_scaled_features)\n",
        "predicted_class = np.argmax(predicted_probabilities, axis=-1)\n",
        "\n",
        "# print(\"Predicted class:\", predicted_class)\n",
        "prediction_class = labelencoder.inverse_transform(predicted_class)\n",
        "print(\"Prediction class label:\", prediction_class)"
      ],
      "metadata": {
        "colab": {
          "base_uri": "https://localhost:8080/"
        },
        "id": "0PC8bo9OM85Q",
        "outputId": "08adbe75-036b-4740-fc63-c983cb7b333d"
      },
      "execution_count": null,
      "outputs": [
        {
          "output_type": "stream",
          "name": "stdout",
          "text": [
            "1/1 [==============================] - 0s 33ms/step\n",
            "Prediction class label: ['drilling']\n"
          ]
        }
      ]
    }
  ]
}